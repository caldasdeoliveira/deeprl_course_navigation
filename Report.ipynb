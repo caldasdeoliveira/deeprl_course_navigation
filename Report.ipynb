{
 "cells": [
  {
   "cell_type": "markdown",
   "id": "4f6739eb",
   "metadata": {},
   "source": [
    "# Udacity Deep Reinforcement Learning course - Project 1: Navigation - Report"
   ]
  },
  {
   "cell_type": "code",
   "execution_count": 1,
   "id": "1bf18009",
   "metadata": {},
   "outputs": [],
   "source": [
    "from unityagents import UnityEnvironment\n",
    "import numpy as np\n",
    "from collections import namedtuple, deque\n",
    "import torch\n",
    "\n",
    "import matplotlib.pyplot as plt\n",
    "%matplotlib inline"
   ]
  },
  {
   "cell_type": "markdown",
   "id": "373d6969",
   "metadata": {},
   "source": [
    "## Learning algorithm\n",
    "\n",
    "The general flow of the learning algorithm is roughly:\n",
    "1. Initialize the environment\n",
    "2. Agent selects an action based on the current state\n",
    "3. The Agent executes the action, a.k.a. the environment receives the action and updates it's state\n",
    "4. The agent stores receives the outcome of its action and stores the new experience\n",
    "5. If the appropriate conditions are met the agent learns based on past experiences\n",
    "6. The loop repeats\n",
    "\n",
    "The hyper parameters for the DQN algorithm are similar to the ones used in the course.\n",
    "* gamma = 0.99,\n",
    "* tau = 1e-3,\n",
    "* lr = 5e-4,\n",
    "* update_every = 4,\n",
    "* n_episodes=2000, \n",
    "* max_t=1000 (this value becomes irrelevant as no episode reaches this far),\n",
    "* eps_start=1.0, \n",
    "* eps_end=0.01, \n",
    "* eps_decay=0.995\n",
    "\n",
    "### Model\n",
    "\n",
    "The current model is a Neural Network with 2 hidden densely connected layers with the gelu activation functions.\n",
    "The number of nodes per layer is:\n",
    "```\n",
    "64, 32, 16, 1\n",
    "```"
   ]
  },
  {
   "cell_type": "markdown",
   "id": "9e9e86ba",
   "metadata": {},
   "source": [
    "## Visualize the agent"
   ]
  },
  {
   "cell_type": "code",
   "execution_count": 2,
   "id": "a0ff7e6d",
   "metadata": {},
   "outputs": [
    {
     "name": "stderr",
     "output_type": "stream",
     "text": [
      "INFO:unityagents:\n",
      "'Academy' started successfully!\n",
      "Unity Academy name: Academy\n",
      "        Number of Brains: 1\n",
      "        Number of External Brains : 1\n",
      "        Lesson number : 0\n",
      "        Reset Parameters :\n",
      "\t\t\n",
      "Unity brain name: BananaBrain\n",
      "        Number of Visual Observations (per agent): 0\n",
      "        Vector Observation space type: continuous\n",
      "        Vector Observation space size (per agent): 37\n",
      "        Number of stacked Vector Observation: 1\n",
      "        Vector Action space type: discrete\n",
      "        Vector Action space size (per agent): 4\n",
      "        Vector Action descriptions: , , , \n"
     ]
    }
   ],
   "source": [
    "env = UnityEnvironment(file_name=\"Banana.app\")"
   ]
  },
  {
   "cell_type": "code",
   "execution_count": 3,
   "id": "261c817e",
   "metadata": {},
   "outputs": [],
   "source": [
    "# get the default brain\n",
    "brain_name = env.brain_names[0]\n",
    "brain = env.brains[brain_name]\n",
    "\n",
    "# reset the environment\n",
    "env_info = env.reset(train_mode=False)[brain_name]\n",
    "\n",
    "# number of actions\n",
    "action_size = brain.vector_action_space_size\n",
    "\n",
    "# examine the state space \n",
    "state = env_info.vector_observations[0]\n",
    "\n",
    "state_size = len(state)\n",
    "\n",
    "seed = 42"
   ]
  },
  {
   "cell_type": "code",
   "execution_count": 4,
   "id": "91234cdf",
   "metadata": {},
   "outputs": [],
   "source": [
    "from dqn import Agent\n",
    "\n",
    "#instantiate agent\n",
    "agent = Agent(state_size, action_size, seed, model_state_dict_path=\"checkpoint.pth\")"
   ]
  },
  {
   "cell_type": "code",
   "execution_count": 5,
   "id": "4c38279d",
   "metadata": {},
   "outputs": [
    {
     "name": "stdout",
     "output_type": "stream",
     "text": [
      "19.0\n"
     ]
    }
   ],
   "source": [
    "score = 0\n",
    "while True:\n",
    "    action = agent.act(state, eps=0) # set eps=0 to ensure greedy approach when evaluating\n",
    "\n",
    "    # update env\n",
    "    env_info = env.step(action)[brain_name]        # send the action to the environment\n",
    "    next_state = env_info.vector_observations[0]   # get the next state\n",
    "    reward = env_info.rewards[0]                   # get the reward\n",
    "    done = env_info.local_done[0]                  # see if episode has finished\n",
    "\n",
    "    state = next_state\n",
    "    score += reward\n",
    "\n",
    "    if done:\n",
    "        break\n",
    "print(score)"
   ]
  },
  {
   "cell_type": "code",
   "execution_count": 6,
   "id": "2f9b96b8",
   "metadata": {},
   "outputs": [],
   "source": [
    "env.close()"
   ]
  },
  {
   "cell_type": "markdown",
   "id": "7b1a855f",
   "metadata": {},
   "source": [
    "## Training Results\n",
    "\n",
    "The Environment was solved in 398 episodes.\n",
    "\n",
    "```\n",
    "Episode 100\tAverage Score: 1.13\n",
    "Episode 200\tAverage Score: 4.38\n",
    "Episode 300\tAverage Score: 7.36\n",
    "Episode 400\tAverage Score: 10.46\n",
    "Episode 498\tAverage Score: 13.02\n",
    "Environment solved in 398 episodes!\tAverage Score: 13.02\n",
    "Episode 500\tAverage Score: 13.06\n",
    "Episode 571\tAverage Score: 14.01\n",
    "Saving better agent with Average Score: 14.01\n",
    "Episode 600\tAverage Score: 14.60\n",
    "Episode 688\tAverage Score: 15.07\n",
    "Saving better agent with Average Score: 15.07\n",
    "Episode 700\tAverage Score: 15.23\n",
    "Episode 773\tAverage Score: 16.01\n",
    "Saving better agent with Average Score: 16.01\n",
    "Episode 800\tAverage Score: 15.83\n",
    "Episode 900\tAverage Score: 15.68\n",
    "Episode 1000\tAverage Score: 15.40\n",
    "Episode 1100\tAverage Score: 16.52\n",
    "Episode 1200\tAverage Score: 15.19\n",
    "Episode 1300\tAverage Score: 16.36\n",
    "Episode 1342\tAverage Score: 17.08\n",
    "Saving better agent with Average Score: 17.08\n",
    "Episode 1400\tAverage Score: 16.55\n",
    "Episode 1500\tAverage Score: 16.69\n",
    "Episode 1600\tAverage Score: 17.03\n",
    "Episode 1700\tAverage Score: 16.33\n",
    "Episode 1800\tAverage Score: 16.00\n",
    "Episode 1900\tAverage Score: 15.86\n",
    "Episode 2000\tAverage Score: 16.00\n",
    "```"
   ]
  },
  {
   "cell_type": "code",
   "execution_count": 7,
   "id": "9f3d81ed",
   "metadata": {},
   "outputs": [],
   "source": [
    "import pickle\n",
    "\n",
    "with open('scores.pkl', 'rb') as f:\n",
    "    scores = pickle.load(f)"
   ]
  },
  {
   "cell_type": "code",
   "execution_count": 8,
   "id": "ae088723",
   "metadata": {},
   "outputs": [
    {
     "data": {
      "image/png": "[encoded data removed]",
      "text/plain": [
       "<Figure size 432x288 with 1 Axes>"
      ]
     },
     "metadata": {
      "needs_background": "light"
     },
     "output_type": "display_data"
    }
   ],
   "source": [
    "# plot the scores\n",
    "fig = plt.figure()\n",
    "ax = fig.add_subplot(111)\n",
    "plt.plot(np.arange(len(scores)), scores)\n",
    "plt.ylabel('Score')\n",
    "plt.xlabel('Episode #')\n",
    "plt.show()"
   ]
  },
  {
   "cell_type": "markdown",
   "id": "2eba26a5",
   "metadata": {},
   "source": [
    "## Future work\n",
    "\n",
    "* Implement Rainbow DQN\n",
    "* Explore more NN architectures\n",
    "* Hyperparameter optimization with experiment tracking"
   ]
  }
 ],
 "metadata": {
  "kernelspec": {
   "display_name": "drl_navigation",
   "language": "python",
   "name": "drl_navigation"
  },
  "language_info": {
   "codemirror_mode": {
    "name": "ipython",
    "version": 3
   },
   "file_extension": ".py",
   "mimetype": "text/x-python",
   "name": "python",
   "nbconvert_exporter": "python",
   "pygments_lexer": "ipython3",
   "version": "3.6.13"
  }
 },
 "nbformat": 4,
 "nbformat_minor": 5
}
